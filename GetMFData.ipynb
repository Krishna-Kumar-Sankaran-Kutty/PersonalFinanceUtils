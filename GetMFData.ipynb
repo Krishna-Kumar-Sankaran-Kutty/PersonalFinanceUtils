{
  "nbformat": 4,
  "nbformat_minor": 0,
  "metadata": {
    "colab": {
      "provenance": [],
      "authorship_tag": "ABX9TyNswW/4Tu+PI62uJlGYwZMY",
      "include_colab_link": true
    },
    "kernelspec": {
      "name": "python3",
      "display_name": "Python 3"
    },
    "language_info": {
      "name": "python"
    }
  },
  "cells": [
    {
      "cell_type": "markdown",
      "metadata": {
        "id": "view-in-github",
        "colab_type": "text"
      },
      "source": [
        "<a href=\"https://colab.research.google.com/github/Krishna-Kumar-Sankaran-Kutty/PersonalFinanceUtils/blob/main/GetMFData.ipynb\" target=\"_parent\"><img src=\"https://colab.research.google.com/assets/colab-badge.svg\" alt=\"Open In Colab\"/></a>"
      ]
    },
    {
      "cell_type": "code",
      "execution_count": 2,
      "metadata": {
        "id": "nk5ixMJabgu5"
      },
      "outputs": [],
      "source": [
        "from bs4 import BeautifulSoup"
      ]
    },
    {
      "cell_type": "code",
      "source": [
        "import requests\n",
        "\n",
        "# Send an HTTP GET request to the URL\n",
        "url = 'https://www.moneycontrol.com/mutual-funds/nav/hdfc-nifty-50-index-fund-direct-growth/MAG822'\n",
        "response = requests.get(url)\n",
        "\n",
        "# Parse the HTML content using BeautifulSoup\n",
        "soup = BeautifulSoup(response.content, 'html.parser')\n",
        "\n",
        "# Find the element containing the NAV data\n",
        "nav_element = soup.find('span', {'class': 'amt'})\n",
        "\n",
        "# Extract the NAV value as text and remove any extra whitespace\n",
        "nav_value = nav_element.text.strip()\n",
        "\n",
        "print(nav_value)\n"
      ],
      "metadata": {
        "colab": {
          "base_uri": "https://localhost:8080/"
        },
        "id": "mXjrqpVxb2a4",
        "outputId": "cbe0b11f-4b47-4ccf-c9c5-e3af86559844"
      },
      "execution_count": 3,
      "outputs": [
        {
          "output_type": "stream",
          "name": "stdout",
          "text": [
            "₹ 10.1696\n"
          ]
        }
      ]
    },
    {
      "cell_type": "code",
      "source": [
        "# prompt: get entire portfolio constituent data from moneycontrol for mutual fund HDFC Nifty50 index fund direct growth https://www.moneycontrol.com/mutual-funds/hdfc-index-fund-nifty-50-plan-direct-plan/portfolio-holdings/MHD1152\n",
        "\n",
        "from bs4 import BeautifulSoup\n",
        "import requests\n",
        "import pandas as pd\n",
        "\n",
        "# Send an HTTP GET request to the URL\n",
        "url = 'https://www.moneycontrol.com/mutual-funds/hdfc-index-fund-nifty-50-plan-direct-plan/portfolio-holdings/MHD1152'\n",
        "response = requests.get(url)\n",
        "\n",
        "# Parse the HTML content using BeautifulSoup\n",
        "soup = BeautifulSoup(response.content, 'html.parser')\n",
        "\n",
        "# Find the table element\n",
        "table = soup.find('table', id='equityCompleteHoldingTable')\n",
        "\n",
        "# Extract table headers\n",
        "headers = [header.text.strip() for header in table.find_all('th')]\n",
        "\n",
        "print(headers)"
      ],
      "metadata": {
        "colab": {
          "base_uri": "https://localhost:8080/"
        },
        "id": "Csl6GK8nch_j",
        "outputId": "ef92efd7-5be2-4b8e-f16d-b13e0cc5e3b5"
      },
      "execution_count": 11,
      "outputs": [
        {
          "output_type": "stream",
          "name": "stdout",
          "text": [
            "['Stock Invested in', 'Sector', 'Sector Total', 'Value(Mn)', '% of Total Holdings', '1M Change', '1Y Highest Holding', '1Y Lowest Holding', 'Quantity', '1M Change in Qty', 'M-Cap', 'GroupName']\n"
          ]
        }
      ]
    }
  ]
}