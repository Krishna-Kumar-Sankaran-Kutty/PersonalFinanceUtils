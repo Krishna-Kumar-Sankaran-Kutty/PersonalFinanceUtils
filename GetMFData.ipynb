{
  "nbformat": 4,
  "nbformat_minor": 0,
  "metadata": {
    "colab": {
      "provenance": [],
      "include_colab_link": true
    },
    "kernelspec": {
      "name": "python3",
      "display_name": "Python 3"
    },
    "language_info": {
      "name": "python"
    }
  },
  "cells": [
    {
      "cell_type": "markdown",
      "metadata": {
        "id": "view-in-github",
        "colab_type": "text"
      },
      "source": [
        "<a href=\"https://colab.research.google.com/github/Krishna-Kumar-Sankaran-Kutty/mfCompare/blob/main/GetMFData.ipynb\" target=\"_parent\"><img src=\"https://colab.research.google.com/assets/colab-badge.svg\" alt=\"Open In Colab\"/></a>"
      ]
    },
    {
      "cell_type": "markdown",
      "source": [
        "# Analyze MF Portfolio data from Money Control"
      ],
      "metadata": {
        "id": "7QSlGuZk3bHf"
      }
    },
    {
      "cell_type": "code",
      "source": [
        "#Import Dependencies\n",
        "import gradio as gr\n",
        "from bs4 import BeautifulSoup\n",
        "import requests\n",
        "import pandas as pd\n",
        "import plotly.express as px"
      ],
      "metadata": {
        "id": "UnA5mSdtjq-h"
      },
      "execution_count": null,
      "outputs": []
    },
    {
      "cell_type": "code",
      "source": [
        "# Define function to extract portfolio details from given url from Moneycontrol Portfolio Holdings page\n",
        "def extract_portfolio(url):\n",
        "  # Send an HTTP GET request to the URL\n",
        "  response = requests.get(url)\n",
        "\n",
        "  # Parse the HTML content using BeautifulSoup\n",
        "  soup = BeautifulSoup(response.content, 'html.parser')\n",
        "\n",
        "  # Find the table element\n",
        "  table = soup.find('table', id='equityCompleteHoldingTable')\n",
        "\n",
        "  # Extract table headers\n",
        "  headers = [header.text.strip() for header in table.find_all('th')]\n",
        "\n",
        "  # Extract table rows\n",
        "  rows = []\n",
        "  for row in table.find_all('tr')[1:]:  # Skip the header row\n",
        "    data = [cell.text.strip() for cell in row.find_all('td')]\n",
        "    rows.append(data)\n",
        "\n",
        "  # Create a Pandas DataFrame\n",
        "  df = pd.DataFrame(rows, columns=headers)\n",
        "\n",
        "  # Add Fund Name column\n",
        "  df['Fund Name'] = url.split('/')[-3].replace('-', ' ').title()\n",
        "\n",
        "  # Set Fund Name column as index\n",
        "  #df = df.set_index('Fund Name')\n",
        "\n",
        "  # Clean-up 'Stock Invested in' column\n",
        "  df['Stock Invested in'] = df['Stock Invested in'].str.replace('#\\n', '')\n",
        "\n",
        "  # Clean-up '% of Total Holdings' column nad convert to float\n",
        "  df['% of Total Holdings'] = df['% of Total Holdings'].str.rstrip('%').astype(float)\n",
        "\n",
        "  # Drop all columns except 'Stock Invested in', 'Sector Total', and '% of Total Holdings'\n",
        "  df = df[['Fund Name', 'Sector', 'Stock Invested in', '% of Total Holdings']]\n",
        "\n",
        "  return df"
      ],
      "metadata": {
        "id": "cFqqZ9VDKylp"
      },
      "execution_count": null,
      "outputs": []
    },
    {
      "cell_type": "code",
      "source": [
        "# Define function to generate treemap based on selected funds\n",
        "def generate_treemap(fund1, fund2, fund3):\n",
        "  fund_urls = {\n",
        "      \"Hdfc Index Fund Nifty 50 Plan Direct Plan\": 'https://www.moneycontrol.com/mutual-funds/hdfc-index-fund-nifty-50-plan-direct-plan/portfolio-holdings/MHD1152',\n",
        "      \"Parag Parikh Flexi Cap Fund Direct Plan\": 'https://www.moneycontrol.com/mutual-funds/parag-parikh-flexi-cap-fund-direct-plan/portfolio-holdings/MPP002',\n",
        "      \"Hdfc Nifty Next 50 Index Fund Direct Plan\": 'https://www.moneycontrol.com/mutual-funds/hdfc-nifty-next-50-index-fund-direct-plan/portfolio-holdings/MHD3484'\n",
        "  }\n",
        "\n",
        "  selected_funds = [fund1, fund2, fund3]\n",
        "  dfs = []\n",
        "  for fund in selected_funds:\n",
        "    if fund:\n",
        "      url = fund_urls[fund]\n",
        "      df = extract_portfolio(url)\n",
        "      dfs.append(df)\n",
        "\n",
        "  if dfs:\n",
        "    combined_df = pd.concat(dfs)\n",
        "    fig = px.treemap(combined_df,\n",
        "                    path=[px.Constant(\"All Funds\"), 'Fund Name', 'Sector', 'Stock Invested in'],\n",
        "                    values='% of Total Holdings',\n",
        "                    color='Fund Name',\n",
        "                    template='ggplot2')\n",
        "    return fig\n",
        "  else:\n",
        "    return None"
      ],
      "metadata": {
        "id": "0sTe3-8gOFd_"
      },
      "execution_count": null,
      "outputs": []
    },
    {
      "cell_type": "code",
      "source": [
        "# Create Gradio interface\n",
        "fund_choices = [\n",
        "    \"Hdfc Index Fund Nifty 50 Plan Direct Plan\",\n",
        "    \"Parag Parikh Flexi Cap Fund Direct Plan\",\n",
        "    \"Hdfc Nifty Next 50 Index Fund Direct Plan\"\n",
        "]\n",
        "\n",
        "iface = gr.Interface(\n",
        "    fn=generate_treemap,\n",
        "    inputs=[\n",
        "        gr.Markdown(\"# MF Portfolio Analysis #\"),\n",
        "        gr.Markdown(\"## Created by KK ##\"),\n",
        "        gr.Dropdown(choices=fund_choices, label=\"Fund 1\"),\n",
        "        gr.Dropdown(choices=fund_choices, label=\"Fund 2\"),\n",
        "        gr.Dropdown(choices=fund_choices, label=\"Fund 3\")\n",
        "],\n",
        "    outputs=gr.Plot()\n",
        ")\n",
        "\n",
        "iface.launch()"
      ],
      "metadata": {
        "id": "w3wDyfy0OJg1",
        "outputId": "0e35c387-c446-4faf-dc2c-866f79af2aec",
        "colab": {
          "base_uri": "https://localhost:8080/",
          "height": 784
        }
      },
      "execution_count": null,
      "outputs": [
        {
          "output_type": "stream",
          "name": "stderr",
          "text": [
            "/usr/local/lib/python3.10/dist-packages/gradio/utils.py:1002: UserWarning:\n",
            "\n",
            "Expected 3 arguments for function <function generate_treemap at 0x7f422665c790>, received 5.\n",
            "\n",
            "/usr/local/lib/python3.10/dist-packages/gradio/utils.py:1010: UserWarning:\n",
            "\n",
            "Expected maximum 3 arguments for function <function generate_treemap at 0x7f422665c790>, received 5.\n",
            "\n"
          ]
        },
        {
          "output_type": "stream",
          "name": "stdout",
          "text": [
            "Setting queue=True in a Colab notebook requires sharing enabled. Setting `share=True` (you can turn this off by setting `share=False` in `launch()` explicitly).\n",
            "\n",
            "Colab notebook detected. To show errors in colab notebook, set debug=True in launch()\n",
            "Running on public URL: https://c33815bd363689d435.gradio.live\n",
            "\n",
            "This share link expires in 72 hours. For free permanent hosting and GPU upgrades, run `gradio deploy` from Terminal to deploy to Spaces (https://huggingface.co/spaces)\n"
          ]
        },
        {
          "output_type": "display_data",
          "data": {
            "text/plain": [
              "<IPython.core.display.HTML object>"
            ],
            "text/html": [
              "<div><iframe src=\"https://c33815bd363689d435.gradio.live\" width=\"100%\" height=\"500\" allow=\"autoplay; camera; microphone; clipboard-read; clipboard-write;\" frameborder=\"0\" allowfullscreen></iframe></div>"
            ]
          },
          "metadata": {}
        },
        {
          "output_type": "execute_result",
          "data": {
            "text/plain": []
          },
          "metadata": {},
          "execution_count": 60
        }
      ]
    }
  ]
}