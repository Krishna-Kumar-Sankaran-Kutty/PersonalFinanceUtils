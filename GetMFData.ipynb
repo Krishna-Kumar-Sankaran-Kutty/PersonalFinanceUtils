{
  "nbformat": 4,
  "nbformat_minor": 0,
  "metadata": {
    "colab": {
      "provenance": [],
      "authorship_tag": "ABX9TyO/c+ipsrZzlLHhIQORGqq/",
      "include_colab_link": true
    },
    "kernelspec": {
      "name": "python3",
      "display_name": "Python 3"
    },
    "language_info": {
      "name": "python"
    }
  },
  "cells": [
    {
      "cell_type": "markdown",
      "metadata": {
        "id": "view-in-github",
        "colab_type": "text"
      },
      "source": [
        "<a href=\"https://colab.research.google.com/github/Krishna-Kumar-Sankaran-Kutty/PersonalFinanceUtils/blob/main/GetMFData.ipynb\" target=\"_parent\"><img src=\"https://colab.research.google.com/assets/colab-badge.svg\" alt=\"Open In Colab\"/></a>"
      ]
    },
    {
      "cell_type": "code",
      "source": [
        "from bs4 import BeautifulSoup\n",
        "import requests\n",
        "import pandas as pd"
      ],
      "metadata": {
        "id": "UnA5mSdtjq-h"
      },
      "execution_count": null,
      "outputs": []
    },
    {
      "cell_type": "code",
      "source": [
        "def extract_portfolio(url):\n",
        "  # Send an HTTP GET request to the URL\n",
        "  response = requests.get(url)\n",
        "\n",
        "  # Parse the HTML content using BeautifulSoup\n",
        "  soup = BeautifulSoup(response.content, 'html.parser')\n",
        "\n",
        "  # Find the table element\n",
        "  table = soup.find('table', id='equityCompleteHoldingTable')\n",
        "\n",
        "  # Extract table headers\n",
        "  headers = [header.text.strip() for header in table.find_all('th')]\n",
        "\n",
        "  # Extract table rows\n",
        "  rows = []\n",
        "  for row in table.find_all('tr')[1:]:  # Skip the header row\n",
        "    data = [cell.text.strip() for cell in row.find_all('td')]\n",
        "    rows.append(data)\n",
        "\n",
        "  # Create a Pandas DataFrame\n",
        "  df = pd.DataFrame(rows, columns=headers)\n",
        "\n",
        "  # Add Fund Name column\n",
        "  df['Fund Name'] = url.split('/')[-3].replace('-', ' ').title()\n",
        "\n",
        "  # Set Fund Name column as index\n",
        "  df = df.set_index('Fund Name')\n",
        "\n",
        "  # Clean-up 'Stock Invested in' column\n",
        "  df['Stock Invested in'] = df['Stock Invested in'].str.replace('#\\n', '')\n",
        "\n",
        "  # Clean-up '% of Total Holdings' column nad convert to float\n",
        "  df['% of Total Holdings'] = df['% of Total Holdings'].str.rstrip('%').astype(float)\n",
        "\n",
        "  # Convert 'Sector Total' to float\n",
        "  df['Sector Total'] = df['Sector Total'].astype(float)\n",
        "\n",
        "  return df\n"
      ],
      "metadata": {
        "id": "8G10Zc3TjOwx"
      },
      "execution_count": 48,
      "outputs": []
    },
    {
      "cell_type": "code",
      "source": [
        "url = 'https://www.moneycontrol.com/mutual-funds/hdfc-index-fund-nifty-50-plan-direct-plan/portfolio-holdings/MHD1152'\n",
        "\n",
        "df = extract_portfolio(url)\n",
        "df.info()"
      ],
      "metadata": {
        "id": "i5O9cSyPjhu6",
        "outputId": "8356822a-aad7-4997-bec0-6be33044890c",
        "colab": {
          "base_uri": "https://localhost:8080/"
        }
      },
      "execution_count": 49,
      "outputs": [
        {
          "output_type": "stream",
          "name": "stdout",
          "text": [
            "<class 'pandas.core.frame.DataFrame'>\n",
            "Index: 51 entries, Hdfc Index Fund Nifty 50 Plan Direct Plan to Hdfc Index Fund Nifty 50 Plan Direct Plan\n",
            "Data columns (total 12 columns):\n",
            " #   Column               Non-Null Count  Dtype  \n",
            "---  ------               --------------  -----  \n",
            " 0   Stock Invested in    51 non-null     object \n",
            " 1   Sector               51 non-null     object \n",
            " 2   Sector Total         51 non-null     float64\n",
            " 3   Value(Mn)            51 non-null     object \n",
            " 4   % of Total Holdings  51 non-null     float64\n",
            " 5   1M Change            51 non-null     object \n",
            " 6   1Y Highest Holding   51 non-null     object \n",
            " 7   1Y Lowest Holding    51 non-null     object \n",
            " 8   Quantity             51 non-null     object \n",
            " 9   1M Change in Qty     51 non-null     object \n",
            " 10  M-Cap                51 non-null     object \n",
            " 11  GroupName            51 non-null     object \n",
            "dtypes: float64(2), object(10)\n",
            "memory usage: 5.2+ KB\n"
          ]
        }
      ]
    },
    {
      "cell_type": "code",
      "source": [
        "# prompt: create a bubble plot of stock invested in vs sector, and bubble size will be % value of holdings\n",
        "\n",
        "import plotly.express as px\n",
        "\n",
        "fig = px.scatter(df, x=\"Stock Invested in\", y=\"Sector\", size=\"% of Total Holdings\",\n",
        "                 color=\"Sector\", hover_name=\"Stock Invested in\",\n",
        "                 title=\"Stock Invested vs Sector\",\n",
        "                 size_max=60)\n",
        "fig.show()\n"
      ],
      "metadata": {
        "id": "b1jCcii9lsTb",
        "outputId": "44158f42-2707-4e08-c5a0-cfd3b26ae787",
        "colab": {
          "base_uri": "https://localhost:8080/",
          "height": 542
        }
      },
      "execution_count": 51,
      "outputs": [
        {
          "output_type": "display_data",
          "data": {
            "text/html": [
              "<html>\n",
              "<head><meta charset=\"utf-8\" /></head>\n",
              "<body>\n",
              "    <div>            <script src=\"https://cdnjs.cloudflare.com/ajax/libs/mathjax/2.7.5/MathJax.js?config=TeX-AMS-MML_SVG\"></script><script type=\"text/javascript\">if (window.MathJax && window.MathJax.Hub && window.MathJax.Hub.Config) {window.MathJax.Hub.Config({SVG: {font: \"STIX-Web\"}});}</script>                <script type=\"text/javascript\">window.PlotlyConfig = {MathJaxConfig: 'local'};</script>\n",
              "        <script charset=\"utf-8\" src=\"https://cdn.plot.ly/plotly-2.24.1.min.js\"></script>                <div id=\"f6bff273-dbf7-4596-8d98-8d51890d1b4c\" class=\"plotly-graph-div\" style=\"height:525px; width:100%;\"></div>            <script type=\"text/javascript\">                                    window.PLOTLYENV=window.PLOTLYENV || {};                                    if (document.getElementById(\"f6bff273-dbf7-4596-8d98-8d51890d1b4c\")) {                    Plotly.newPlot(                        \"f6bff273-dbf7-4596-8d98-8d51890d1b4c\",                        [{\"hovertemplate\":\"\\u003cb\\u003e%{hovertext}\\u003c\\u002fb\\u003e\\u003cbr\\u003e\\u003cbr\\u003eSector=%{y}\\u003cbr\\u003eStock Invested in=%{x}\\u003cbr\\u003e% of Total Holdings=%{marker.size}\\u003cextra\\u003e\\u003c\\u002fextra\\u003e\",\"hovertext\":[\"HDFC Bank Ltd.\",\"ICICI Bank Ltd.\",\"Axis Bank Ltd.\",\"Kotak Mahindra Bank Ltd.\",\"Indusind Bank Ltd.\"],\"legendgroup\":\"Private sector bank\",\"marker\":{\"color\":\"#636efa\",\"size\":[11.02,7.74,3.0,2.41,0.86],\"sizemode\":\"area\",\"sizeref\":0.003061111111111111,\"symbol\":\"circle\"},\"mode\":\"markers\",\"name\":\"Private sector bank\",\"orientation\":\"v\",\"showlegend\":true,\"x\":[\"HDFC Bank Ltd.\",\"ICICI Bank Ltd.\",\"Axis Bank Ltd.\",\"Kotak Mahindra Bank Ltd.\",\"Indusind Bank Ltd.\"],\"xaxis\":\"x\",\"y\":[\"Private sector bank\",\"Private sector bank\",\"Private sector bank\",\"Private sector bank\",\"Private sector bank\"],\"yaxis\":\"y\",\"type\":\"scatter\"},{\"hovertemplate\":\"\\u003cb\\u003e%{hovertext}\\u003c\\u002fb\\u003e\\u003cbr\\u003e\\u003cbr\\u003eSector=%{y}\\u003cbr\\u003eStock Invested in=%{x}\\u003cbr\\u003e% of Total Holdings=%{marker.size}\\u003cextra\\u003e\\u003c\\u002fextra\\u003e\",\"hovertext\":[\"Reliance Industries Ltd.\",\"Bharat Petroleum Corporation Ltd.\"],\"legendgroup\":\"Refineries & marketing\",\"marker\":{\"color\":\"#EF553B\",\"size\":[9.22,0.62],\"sizemode\":\"area\",\"sizeref\":0.003061111111111111,\"symbol\":\"circle\"},\"mode\":\"markers\",\"name\":\"Refineries & marketing\",\"orientation\":\"v\",\"showlegend\":true,\"x\":[\"Reliance Industries Ltd.\",\"Bharat Petroleum Corporation Ltd.\"],\"xaxis\":\"x\",\"y\":[\"Refineries & marketing\",\"Refineries & marketing\"],\"yaxis\":\"y\",\"type\":\"scatter\"},{\"hovertemplate\":\"\\u003cb\\u003e%{hovertext}\\u003c\\u002fb\\u003e\\u003cbr\\u003e\\u003cbr\\u003eSector=%{y}\\u003cbr\\u003eStock Invested in=%{x}\\u003cbr\\u003e% of Total Holdings=%{marker.size}\\u003cextra\\u003e\\u003c\\u002fextra\\u003e\",\"hovertext\":[\"Infosys Ltd.\",\"Tata Consultancy Services Ltd.\",\"HCL Technologies Limited\",\"Tech Mahindra Ltd.\",\"Wipro Ltd.\",\"LTIMindtree Ltd.\"],\"legendgroup\":\"Computers - software & consulting\",\"marker\":{\"color\":\"#00cc96\",\"size\":[6.11,4.02,1.57,0.89,0.67,0.47],\"sizemode\":\"area\",\"sizeref\":0.003061111111111111,\"symbol\":\"circle\"},\"mode\":\"markers\",\"name\":\"Computers - software & consulting\",\"orientation\":\"v\",\"showlegend\":true,\"x\":[\"Infosys Ltd.\",\"Tata Consultancy Services Ltd.\",\"HCL Technologies Limited\",\"Tech Mahindra Ltd.\",\"Wipro Ltd.\",\"LTIMindtree Ltd.\"],\"xaxis\":\"x\",\"y\":[\"Computers - software & consulting\",\"Computers - software & consulting\",\"Computers - software & consulting\",\"Computers - software & consulting\",\"Computers - software & consulting\",\"Computers - software & consulting\"],\"yaxis\":\"y\",\"type\":\"scatter\"},{\"hovertemplate\":\"\\u003cb\\u003e%{hovertext}\\u003c\\u002fb\\u003e\\u003cbr\\u003e\\u003cbr\\u003eSector=%{y}\\u003cbr\\u003eStock Invested in=%{x}\\u003cbr\\u003e% of Total Holdings=%{marker.size}\\u003cextra\\u003e\\u003c\\u002fextra\\u003e\",\"hovertext\":[\"ITC Limited\",\"Hindustan Unilever Ltd.\"],\"legendgroup\":\"Diversified fmcg\",\"marker\":{\"color\":\"#ab63fa\",\"size\":[4.14,2.19],\"sizemode\":\"area\",\"sizeref\":0.003061111111111111,\"symbol\":\"circle\"},\"mode\":\"markers\",\"name\":\"Diversified fmcg\",\"orientation\":\"v\",\"showlegend\":true,\"x\":[\"ITC Limited\",\"Hindustan Unilever Ltd.\"],\"xaxis\":\"x\",\"y\":[\"Diversified fmcg\",\"Diversified fmcg\"],\"yaxis\":\"y\",\"type\":\"scatter\"},{\"hovertemplate\":\"\\u003cb\\u003e%{hovertext}\\u003c\\u002fb\\u003e\\u003cbr\\u003e\\u003cbr\\u003eSector=%{y}\\u003cbr\\u003eStock Invested in=%{x}\\u003cbr\\u003e% of Total Holdings=%{marker.size}\\u003cextra\\u003e\\u003c\\u002fextra\\u003e\",\"hovertext\":[\"Larsen & Toubro Ltd.\"],\"legendgroup\":\"Civil construction\",\"marker\":{\"color\":\"#FFA15A\",\"size\":[4.04],\"sizemode\":\"area\",\"sizeref\":0.003061111111111111,\"symbol\":\"circle\"},\"mode\":\"markers\",\"name\":\"Civil construction\",\"orientation\":\"v\",\"showlegend\":true,\"x\":[\"Larsen & Toubro Ltd.\"],\"xaxis\":\"x\",\"y\":[\"Civil construction\"],\"yaxis\":\"y\",\"type\":\"scatter\"},{\"hovertemplate\":\"\\u003cb\\u003e%{hovertext}\\u003c\\u002fb\\u003e\\u003cbr\\u003e\\u003cbr\\u003eSector=%{y}\\u003cbr\\u003eStock Invested in=%{x}\\u003cbr\\u003e% of Total Holdings=%{marker.size}\\u003cextra\\u003e\\u003c\\u002fextra\\u003e\",\"hovertext\":[\"Bharti Airtel Ltd.\"],\"legendgroup\":\"Telecom - cellular & fixed line services\",\"marker\":{\"color\":\"#19d3f3\",\"size\":[3.61],\"sizemode\":\"area\",\"sizeref\":0.003061111111111111,\"symbol\":\"circle\"},\"mode\":\"markers\",\"name\":\"Telecom - cellular & fixed line services\",\"orientation\":\"v\",\"showlegend\":true,\"x\":[\"Bharti Airtel Ltd.\"],\"xaxis\":\"x\",\"y\":[\"Telecom - cellular & fixed line services\"],\"yaxis\":\"y\",\"type\":\"scatter\"},{\"hovertemplate\":\"\\u003cb\\u003e%{hovertext}\\u003c\\u002fb\\u003e\\u003cbr\\u003e\\u003cbr\\u003eSector=%{y}\\u003cbr\\u003eStock Invested in=%{x}\\u003cbr\\u003e% of Total Holdings=%{marker.size}\\u003cextra\\u003e\\u003c\\u002fextra\\u003e\",\"hovertext\":[\"State Bank Of India\"],\"legendgroup\":\"Public sector bank\",\"marker\":{\"color\":\"#FF6692\",\"size\":[3.03],\"sizemode\":\"area\",\"sizeref\":0.003061111111111111,\"symbol\":\"circle\"},\"mode\":\"markers\",\"name\":\"Public sector bank\",\"orientation\":\"v\",\"showlegend\":true,\"x\":[\"State Bank Of India\"],\"xaxis\":\"x\",\"y\":[\"Public sector bank\"],\"yaxis\":\"y\",\"type\":\"scatter\"},{\"hovertemplate\":\"\\u003cb\\u003e%{hovertext}\\u003c\\u002fb\\u003e\\u003cbr\\u003e\\u003cbr\\u003eSector=%{y}\\u003cbr\\u003eStock Invested in=%{x}\\u003cbr\\u003e% of Total Holdings=%{marker.size}\\u003cextra\\u003e\\u003c\\u002fextra\\u003e\",\"hovertext\":[\"Mahindra & Mahindra Ltd.\",\"Tata Motors Ltd.\",\"Maruti Suzuki India Ltd.\"],\"legendgroup\":\"Passenger cars & utility vehicles\",\"marker\":{\"color\":\"#B6E880\",\"size\":[2.55,1.84,1.57],\"sizemode\":\"area\",\"sizeref\":0.003061111111111111,\"symbol\":\"circle\"},\"mode\":\"markers\",\"name\":\"Passenger cars & utility vehicles\",\"orientation\":\"v\",\"showlegend\":true,\"x\":[\"Mahindra & Mahindra Ltd.\",\"Tata Motors Ltd.\",\"Maruti Suzuki India Ltd.\"],\"xaxis\":\"x\",\"y\":[\"Passenger cars & utility vehicles\",\"Passenger cars & utility vehicles\",\"Passenger cars & utility vehicles\"],\"yaxis\":\"y\",\"type\":\"scatter\"},{\"hovertemplate\":\"\\u003cb\\u003e%{hovertext}\\u003c\\u002fb\\u003e\\u003cbr\\u003e\\u003cbr\\u003eSector=%{y}\\u003cbr\\u003eStock Invested in=%{x}\\u003cbr\\u003e% of Total Holdings=%{marker.size}\\u003cextra\\u003e\\u003c\\u002fextra\\u003e\",\"hovertext\":[\"National Thermal Power Corporation Ltd.\"],\"legendgroup\":\"Power generation\",\"marker\":{\"color\":\"#FF97FF\",\"size\":[1.79],\"sizemode\":\"area\",\"sizeref\":0.003061111111111111,\"symbol\":\"circle\"},\"mode\":\"markers\",\"name\":\"Power generation\",\"orientation\":\"v\",\"showlegend\":true,\"x\":[\"National Thermal Power Corporation Ltd.\"],\"xaxis\":\"x\",\"y\":[\"Power generation\"],\"yaxis\":\"y\",\"type\":\"scatter\"},{\"hovertemplate\":\"\\u003cb\\u003e%{hovertext}\\u003c\\u002fb\\u003e\\u003cbr\\u003e\\u003cbr\\u003eSector=%{y}\\u003cbr\\u003eStock Invested in=%{x}\\u003cbr\\u003e% of Total Holdings=%{marker.size}\\u003cextra\\u003e\\u003c\\u002fextra\\u003e\",\"hovertext\":[\"Bajaj Finance Ltd.\",\"Shriram Finance Ltd.\"],\"legendgroup\":\"Non banking financial company (nbfc)\",\"marker\":{\"color\":\"#FECB52\",\"size\":[1.72,0.74],\"sizemode\":\"area\",\"sizeref\":0.003061111111111111,\"symbol\":\"circle\"},\"mode\":\"markers\",\"name\":\"Non banking financial company (nbfc)\",\"orientation\":\"v\",\"showlegend\":true,\"x\":[\"Bajaj Finance Ltd.\",\"Shriram Finance Ltd.\"],\"xaxis\":\"x\",\"y\":[\"Non banking financial company (nbfc)\",\"Non banking financial company (nbfc)\"],\"yaxis\":\"y\",\"type\":\"scatter\"},{\"hovertemplate\":\"\\u003cb\\u003e%{hovertext}\\u003c\\u002fb\\u003e\\u003cbr\\u003e\\u003cbr\\u003eSector=%{y}\\u003cbr\\u003eStock Invested in=%{x}\\u003cbr\\u003e% of Total Holdings=%{marker.size}\\u003cextra\\u003e\\u003c\\u002fextra\\u003e\",\"hovertext\":[\"Sun Pharmaceutical Industries Ltd.\",\"Dr. Reddys Laboratories Ltd.\",\"Cipla Ltd.\",\"Divis Laboratories Ltd.\"],\"legendgroup\":\"Pharmaceuticals\",\"marker\":{\"color\":\"#636efa\",\"size\":[1.68,0.74,0.73,0.57],\"sizemode\":\"area\",\"sizeref\":0.003061111111111111,\"symbol\":\"circle\"},\"mode\":\"markers\",\"name\":\"Pharmaceuticals\",\"orientation\":\"v\",\"showlegend\":true,\"x\":[\"Sun Pharmaceutical Industries Ltd.\",\"Dr. Reddys Laboratories Ltd.\",\"Cipla Ltd.\",\"Divis Laboratories Ltd.\"],\"xaxis\":\"x\",\"y\":[\"Pharmaceuticals\",\"Pharmaceuticals\",\"Pharmaceuticals\",\"Pharmaceuticals\"],\"yaxis\":\"y\",\"type\":\"scatter\"},{\"hovertemplate\":\"\\u003cb\\u003e%{hovertext}\\u003c\\u002fb\\u003e\\u003cbr\\u003e\\u003cbr\\u003eSector=%{y}\\u003cbr\\u003eStock Invested in=%{x}\\u003cbr\\u003e% of Total Holdings=%{marker.size}\\u003cextra\\u003e\\u003c\\u002fextra\\u003e\",\"hovertext\":[\"Power Grid Corporation of India Ltd.\"],\"legendgroup\":\"Power - transmission\",\"marker\":{\"color\":\"#EF553B\",\"size\":[1.44],\"sizemode\":\"area\",\"sizeref\":0.003061111111111111,\"symbol\":\"circle\"},\"mode\":\"markers\",\"name\":\"Power - transmission\",\"orientation\":\"v\",\"showlegend\":true,\"x\":[\"Power Grid Corporation of India Ltd.\"],\"xaxis\":\"x\",\"y\":[\"Power - transmission\"],\"yaxis\":\"y\",\"type\":\"scatter\"},{\"hovertemplate\":\"\\u003cb\\u003e%{hovertext}\\u003c\\u002fb\\u003e\\u003cbr\\u003e\\u003cbr\\u003eSector=%{y}\\u003cbr\\u003eStock Invested in=%{x}\\u003cbr\\u003e% of Total Holdings=%{marker.size}\\u003cextra\\u003e\\u003c\\u002fextra\\u003e\",\"hovertext\":[\"Titan Company Ltd.\"],\"legendgroup\":\"Gems, jewellery and watches\",\"marker\":{\"color\":\"#00cc96\",\"size\":[1.31],\"sizemode\":\"area\",\"sizeref\":0.003061111111111111,\"symbol\":\"circle\"},\"mode\":\"markers\",\"name\":\"Gems, jewellery and watches\",\"orientation\":\"v\",\"showlegend\":true,\"x\":[\"Titan Company Ltd.\"],\"xaxis\":\"x\",\"y\":[\"Gems, jewellery and watches\"],\"yaxis\":\"y\",\"type\":\"scatter\"},{\"hovertemplate\":\"\\u003cb\\u003e%{hovertext}\\u003c\\u002fb\\u003e\\u003cbr\\u003e\\u003cbr\\u003eSector=%{y}\\u003cbr\\u003eStock Invested in=%{x}\\u003cbr\\u003e% of Total Holdings=%{marker.size}\\u003cextra\\u003e\\u003c\\u002fextra\\u003e\",\"hovertext\":[\"Asian Paints (india) Ltd.\"],\"legendgroup\":\"Paints\",\"marker\":{\"color\":\"#ab63fa\",\"size\":[1.26],\"sizemode\":\"area\",\"sizeref\":0.003061111111111111,\"symbol\":\"circle\"},\"mode\":\"markers\",\"name\":\"Paints\",\"orientation\":\"v\",\"showlegend\":true,\"x\":[\"Asian Paints (india) Ltd.\"],\"xaxis\":\"x\",\"y\":[\"Paints\"],\"yaxis\":\"y\",\"type\":\"scatter\"},{\"hovertemplate\":\"\\u003cb\\u003e%{hovertext}\\u003c\\u002fb\\u003e\\u003cbr\\u003e\\u003cbr\\u003eSector=%{y}\\u003cbr\\u003eStock Invested in=%{x}\\u003cbr\\u003e% of Total Holdings=%{marker.size}\\u003cextra\\u003e\\u003c\\u002fextra\\u003e\",\"hovertext\":[\"Ultratech Cement Ltd.\",\"Grasim Industries Limited\"],\"legendgroup\":\"Cement & cement products\",\"marker\":{\"color\":\"#FFA15A\",\"size\":[1.24,0.93],\"sizemode\":\"area\",\"sizeref\":0.003061111111111111,\"symbol\":\"circle\"},\"mode\":\"markers\",\"name\":\"Cement & cement products\",\"orientation\":\"v\",\"showlegend\":true,\"x\":[\"Ultratech Cement Ltd.\",\"Grasim Industries Limited\"],\"xaxis\":\"x\",\"y\":[\"Cement & cement products\",\"Cement & cement products\"],\"yaxis\":\"y\",\"type\":\"scatter\"},{\"hovertemplate\":\"\\u003cb\\u003e%{hovertext}\\u003c\\u002fb\\u003e\\u003cbr\\u003e\\u003cbr\\u003eSector=%{y}\\u003cbr\\u003eStock Invested in=%{x}\\u003cbr\\u003e% of Total Holdings=%{marker.size}\\u003cextra\\u003e\\u003c\\u002fextra\\u003e\",\"hovertext\":[\"Tata Steel Ltd.\",\"J S W Steel Ltd.\"],\"legendgroup\":\"Iron & steel products\",\"marker\":{\"color\":\"#19d3f3\",\"size\":[1.23,0.8],\"sizemode\":\"area\",\"sizeref\":0.003061111111111111,\"symbol\":\"circle\"},\"mode\":\"markers\",\"name\":\"Iron & steel products\",\"orientation\":\"v\",\"showlegend\":true,\"x\":[\"Tata Steel Ltd.\",\"J S W Steel Ltd.\"],\"xaxis\":\"x\",\"y\":[\"Iron & steel products\",\"Iron & steel products\"],\"yaxis\":\"y\",\"type\":\"scatter\"},{\"hovertemplate\":\"\\u003cb\\u003e%{hovertext}\\u003c\\u002fb\\u003e\\u003cbr\\u003e\\u003cbr\\u003eSector=%{y}\\u003cbr\\u003eStock Invested in=%{x}\\u003cbr\\u003e% of Total Holdings=%{marker.size}\\u003cextra\\u003e\\u003c\\u002fextra\\u003e\",\"hovertext\":[\"Oil & Natural Gas Corporation Ltd.\"],\"legendgroup\":\"Oil exploration & production\",\"marker\":{\"color\":\"#FF6692\",\"size\":[1.18],\"sizemode\":\"area\",\"sizeref\":0.003061111111111111,\"symbol\":\"circle\"},\"mode\":\"markers\",\"name\":\"Oil exploration & production\",\"orientation\":\"v\",\"showlegend\":true,\"x\":[\"Oil & Natural Gas Corporation Ltd.\"],\"xaxis\":\"x\",\"y\":[\"Oil exploration & production\"],\"yaxis\":\"y\",\"type\":\"scatter\"},{\"hovertemplate\":\"\\u003cb\\u003e%{hovertext}\\u003c\\u002fb\\u003e\\u003cbr\\u003e\\u003cbr\\u003eSector=%{y}\\u003cbr\\u003eStock Invested in=%{x}\\u003cbr\\u003e% of Total Holdings=%{marker.size}\\u003cextra\\u003e\\u003c\\u002fextra\\u003e\",\"hovertext\":[\"Coal India Ltd.\"],\"legendgroup\":\"Coal\",\"marker\":{\"color\":\"#B6E880\",\"size\":[1.08],\"sizemode\":\"area\",\"sizeref\":0.003061111111111111,\"symbol\":\"circle\"},\"mode\":\"markers\",\"name\":\"Coal\",\"orientation\":\"v\",\"showlegend\":true,\"x\":[\"Coal India Ltd.\"],\"xaxis\":\"x\",\"y\":[\"Coal\"],\"yaxis\":\"y\",\"type\":\"scatter\"},{\"hovertemplate\":\"\\u003cb\\u003e%{hovertext}\\u003c\\u002fb\\u003e\\u003cbr\\u003e\\u003cbr\\u003eSector=%{y}\\u003cbr\\u003eStock Invested in=%{x}\\u003cbr\\u003e% of Total Holdings=%{marker.size}\\u003cextra\\u003e\\u003c\\u002fextra\\u003e\",\"hovertext\":[\"Adani Ports And Special Economic Zone Ltd.\"],\"legendgroup\":\"Port & port services\",\"marker\":{\"color\":\"#FF97FF\",\"size\":[1.04],\"sizemode\":\"area\",\"sizeref\":0.003061111111111111,\"symbol\":\"circle\"},\"mode\":\"markers\",\"name\":\"Port & port services\",\"orientation\":\"v\",\"showlegend\":true,\"x\":[\"Adani Ports And Special Economic Zone Ltd.\"],\"xaxis\":\"x\",\"y\":[\"Port & port services\"],\"yaxis\":\"y\",\"type\":\"scatter\"},{\"hovertemplate\":\"\\u003cb\\u003e%{hovertext}\\u003c\\u002fb\\u003e\\u003cbr\\u003e\\u003cbr\\u003eSector=%{y}\\u003cbr\\u003eStock Invested in=%{x}\\u003cbr\\u003e% of Total Holdings=%{marker.size}\\u003cextra\\u003e\\u003c\\u002fextra\\u003e\",\"hovertext\":[\"Bajaj Auto Ltd.\",\"Hero Motocorp Ltd.\",\"Eicher Motors Ltd.\"],\"legendgroup\":\"2\\u002f3 wheelers\",\"marker\":{\"color\":\"#FECB52\",\"size\":[0.98,0.65,0.62],\"sizemode\":\"area\",\"sizeref\":0.003061111111111111,\"symbol\":\"circle\"},\"mode\":\"markers\",\"name\":\"2\\u002f3 wheelers\",\"orientation\":\"v\",\"showlegend\":true,\"x\":[\"Bajaj Auto Ltd.\",\"Hero Motocorp Ltd.\",\"Eicher Motors Ltd.\"],\"xaxis\":\"x\",\"y\":[\"2\\u002f3 wheelers\",\"2\\u002f3 wheelers\",\"2\\u002f3 wheelers\"],\"yaxis\":\"y\",\"type\":\"scatter\"},{\"hovertemplate\":\"\\u003cb\\u003e%{hovertext}\\u003c\\u002fb\\u003e\\u003cbr\\u003e\\u003cbr\\u003eSector=%{y}\\u003cbr\\u003eStock Invested in=%{x}\\u003cbr\\u003e% of Total Holdings=%{marker.size}\\u003cextra\\u003e\\u003c\\u002fextra\\u003e\",\"hovertext\":[\"Hindalco Industries Ltd.\"],\"legendgroup\":\"Aluminium\",\"marker\":{\"color\":\"#636efa\",\"size\":[0.89],\"sizemode\":\"area\",\"sizeref\":0.003061111111111111,\"symbol\":\"circle\"},\"mode\":\"markers\",\"name\":\"Aluminium\",\"orientation\":\"v\",\"showlegend\":true,\"x\":[\"Hindalco Industries Ltd.\"],\"xaxis\":\"x\",\"y\":[\"Aluminium\"],\"yaxis\":\"y\",\"type\":\"scatter\"},{\"hovertemplate\":\"\\u003cb\\u003e%{hovertext}\\u003c\\u002fb\\u003e\\u003cbr\\u003e\\u003cbr\\u003eSector=%{y}\\u003cbr\\u003eStock Invested in=%{x}\\u003cbr\\u003e% of Total Holdings=%{marker.size}\\u003cextra\\u003e\\u003c\\u002fextra\\u003e\",\"hovertext\":[\"Bajaj Finserv Ltd\"],\"legendgroup\":\"Holding company\",\"marker\":{\"color\":\"#EF553B\",\"size\":[0.81],\"sizemode\":\"area\",\"sizeref\":0.003061111111111111,\"symbol\":\"circle\"},\"mode\":\"markers\",\"name\":\"Holding company\",\"orientation\":\"v\",\"showlegend\":true,\"x\":[\"Bajaj Finserv Ltd\"],\"xaxis\":\"x\",\"y\":[\"Holding company\"],\"yaxis\":\"y\",\"type\":\"scatter\"},{\"hovertemplate\":\"\\u003cb\\u003e%{hovertext}\\u003c\\u002fb\\u003e\\u003cbr\\u003e\\u003cbr\\u003eSector=%{y}\\u003cbr\\u003eStock Invested in=%{x}\\u003cbr\\u003e% of Total Holdings=%{marker.size}\\u003cextra\\u003e\\u003c\\u002fextra\\u003e\",\"hovertext\":[\"Nestle India Ltd.\",\"Britannia Industries Ltd.\"],\"legendgroup\":\"Packaged foods\",\"marker\":{\"color\":\"#00cc96\",\"size\":[0.79,0.62],\"sizemode\":\"area\",\"sizeref\":0.003061111111111111,\"symbol\":\"circle\"},\"mode\":\"markers\",\"name\":\"Packaged foods\",\"orientation\":\"v\",\"showlegend\":true,\"x\":[\"Nestle India Ltd.\",\"Britannia Industries Ltd.\"],\"xaxis\":\"x\",\"y\":[\"Packaged foods\",\"Packaged foods\"],\"yaxis\":\"y\",\"type\":\"scatter\"},{\"hovertemplate\":\"\\u003cb\\u003e%{hovertext}\\u003c\\u002fb\\u003e\\u003cbr\\u003e\\u003cbr\\u003eSector=%{y}\\u003cbr\\u003eStock Invested in=%{x}\\u003cbr\\u003e% of Total Holdings=%{marker.size}\\u003cextra\\u003e\\u003c\\u002fextra\\u003e\",\"hovertext\":[\"Adani Enterprises Ltd.\"],\"legendgroup\":\"Trading - minerals\",\"marker\":{\"color\":\"#ab63fa\",\"size\":[0.75],\"sizemode\":\"area\",\"sizeref\":0.003061111111111111,\"symbol\":\"circle\"},\"mode\":\"markers\",\"name\":\"Trading - minerals\",\"orientation\":\"v\",\"showlegend\":true,\"x\":[\"Adani Enterprises Ltd.\"],\"xaxis\":\"x\",\"y\":[\"Trading - minerals\"],\"yaxis\":\"y\",\"type\":\"scatter\"},{\"hovertemplate\":\"\\u003cb\\u003e%{hovertext}\\u003c\\u002fb\\u003e\\u003cbr\\u003e\\u003cbr\\u003eSector=%{y}\\u003cbr\\u003eStock Invested in=%{x}\\u003cbr\\u003e% of Total Holdings=%{marker.size}\\u003cextra\\u003e\\u003c\\u002fextra\\u003e\",\"hovertext\":[\"SBI Life Insurance Co Ltd.\",\"HDFC Life Insurance Company Ltd.\"],\"legendgroup\":\"Life insurance\",\"marker\":{\"color\":\"#FFA15A\",\"size\":[0.72,0.68],\"sizemode\":\"area\",\"sizeref\":0.003061111111111111,\"symbol\":\"circle\"},\"mode\":\"markers\",\"name\":\"Life insurance\",\"orientation\":\"v\",\"showlegend\":true,\"x\":[\"SBI Life Insurance Co Ltd.\",\"HDFC Life Insurance Company Ltd.\"],\"xaxis\":\"x\",\"y\":[\"Life insurance\",\"Life insurance\"],\"yaxis\":\"y\",\"type\":\"scatter\"},{\"hovertemplate\":\"\\u003cb\\u003e%{hovertext}\\u003c\\u002fb\\u003e\\u003cbr\\u003e\\u003cbr\\u003eSector=%{y}\\u003cbr\\u003eStock Invested in=%{x}\\u003cbr\\u003e% of Total Holdings=%{marker.size}\\u003cextra\\u003e\\u003c\\u002fextra\\u003e\",\"hovertext\":[\"Tata Consumer Products Ltd.\",\"Tata Consumer Products Ltd. - Rights\"],\"legendgroup\":\"Tea & coffee\",\"marker\":{\"color\":\"#19d3f3\",\"size\":[0.7,0.01],\"sizemode\":\"area\",\"sizeref\":0.003061111111111111,\"symbol\":\"circle\"},\"mode\":\"markers\",\"name\":\"Tea & coffee\",\"orientation\":\"v\",\"showlegend\":true,\"x\":[\"Tata Consumer Products Ltd.\",\"Tata Consumer Products Ltd. - Rights\"],\"xaxis\":\"x\",\"y\":[\"Tea & coffee\",\"Tea & coffee\"],\"yaxis\":\"y\",\"type\":\"scatter\"},{\"hovertemplate\":\"\\u003cb\\u003e%{hovertext}\\u003c\\u002fb\\u003e\\u003cbr\\u003e\\u003cbr\\u003eSector=%{y}\\u003cbr\\u003eStock Invested in=%{x}\\u003cbr\\u003e% of Total Holdings=%{marker.size}\\u003cextra\\u003e\\u003c\\u002fextra\\u003e\",\"hovertext\":[\"Apollo Hospitals Enterprises Ltd.\"],\"legendgroup\":\"Hospital\",\"marker\":{\"color\":\"#FF6692\",\"size\":[0.6],\"sizemode\":\"area\",\"sizeref\":0.003061111111111111,\"symbol\":\"circle\"},\"mode\":\"markers\",\"name\":\"Hospital\",\"orientation\":\"v\",\"showlegend\":true,\"x\":[\"Apollo Hospitals Enterprises Ltd.\"],\"xaxis\":\"x\",\"y\":[\"Hospital\"],\"yaxis\":\"y\",\"type\":\"scatter\"}],                        {\"template\":{\"data\":{\"histogram2dcontour\":[{\"type\":\"histogram2dcontour\",\"colorbar\":{\"outlinewidth\":0,\"ticks\":\"\"},\"colorscale\":[[0.0,\"#0d0887\"],[0.1111111111111111,\"#46039f\"],[0.2222222222222222,\"#7201a8\"],[0.3333333333333333,\"#9c179e\"],[0.4444444444444444,\"#bd3786\"],[0.5555555555555556,\"#d8576b\"],[0.6666666666666666,\"#ed7953\"],[0.7777777777777778,\"#fb9f3a\"],[0.8888888888888888,\"#fdca26\"],[1.0,\"#f0f921\"]]}],\"choropleth\":[{\"type\":\"choropleth\",\"colorbar\":{\"outlinewidth\":0,\"ticks\":\"\"}}],\"histogram2d\":[{\"type\":\"histogram2d\",\"colorbar\":{\"outlinewidth\":0,\"ticks\":\"\"},\"colorscale\":[[0.0,\"#0d0887\"],[0.1111111111111111,\"#46039f\"],[0.2222222222222222,\"#7201a8\"],[0.3333333333333333,\"#9c179e\"],[0.4444444444444444,\"#bd3786\"],[0.5555555555555556,\"#d8576b\"],[0.6666666666666666,\"#ed7953\"],[0.7777777777777778,\"#fb9f3a\"],[0.8888888888888888,\"#fdca26\"],[1.0,\"#f0f921\"]]}],\"heatmap\":[{\"type\":\"heatmap\",\"colorbar\":{\"outlinewidth\":0,\"ticks\":\"\"},\"colorscale\":[[0.0,\"#0d0887\"],[0.1111111111111111,\"#46039f\"],[0.2222222222222222,\"#7201a8\"],[0.3333333333333333,\"#9c179e\"],[0.4444444444444444,\"#bd3786\"],[0.5555555555555556,\"#d8576b\"],[0.6666666666666666,\"#ed7953\"],[0.7777777777777778,\"#fb9f3a\"],[0.8888888888888888,\"#fdca26\"],[1.0,\"#f0f921\"]]}],\"heatmapgl\":[{\"type\":\"heatmapgl\",\"colorbar\":{\"outlinewidth\":0,\"ticks\":\"\"},\"colorscale\":[[0.0,\"#0d0887\"],[0.1111111111111111,\"#46039f\"],[0.2222222222222222,\"#7201a8\"],[0.3333333333333333,\"#9c179e\"],[0.4444444444444444,\"#bd3786\"],[0.5555555555555556,\"#d8576b\"],[0.6666666666666666,\"#ed7953\"],[0.7777777777777778,\"#fb9f3a\"],[0.8888888888888888,\"#fdca26\"],[1.0,\"#f0f921\"]]}],\"contourcarpet\":[{\"type\":\"contourcarpet\",\"colorbar\":{\"outlinewidth\":0,\"ticks\":\"\"}}],\"contour\":[{\"type\":\"contour\",\"colorbar\":{\"outlinewidth\":0,\"ticks\":\"\"},\"colorscale\":[[0.0,\"#0d0887\"],[0.1111111111111111,\"#46039f\"],[0.2222222222222222,\"#7201a8\"],[0.3333333333333333,\"#9c179e\"],[0.4444444444444444,\"#bd3786\"],[0.5555555555555556,\"#d8576b\"],[0.6666666666666666,\"#ed7953\"],[0.7777777777777778,\"#fb9f3a\"],[0.8888888888888888,\"#fdca26\"],[1.0,\"#f0f921\"]]}],\"surface\":[{\"type\":\"surface\",\"colorbar\":{\"outlinewidth\":0,\"ticks\":\"\"},\"colorscale\":[[0.0,\"#0d0887\"],[0.1111111111111111,\"#46039f\"],[0.2222222222222222,\"#7201a8\"],[0.3333333333333333,\"#9c179e\"],[0.4444444444444444,\"#bd3786\"],[0.5555555555555556,\"#d8576b\"],[0.6666666666666666,\"#ed7953\"],[0.7777777777777778,\"#fb9f3a\"],[0.8888888888888888,\"#fdca26\"],[1.0,\"#f0f921\"]]}],\"mesh3d\":[{\"type\":\"mesh3d\",\"colorbar\":{\"outlinewidth\":0,\"ticks\":\"\"}}],\"scatter\":[{\"fillpattern\":{\"fillmode\":\"overlay\",\"size\":10,\"solidity\":0.2},\"type\":\"scatter\"}],\"parcoords\":[{\"type\":\"parcoords\",\"line\":{\"colorbar\":{\"outlinewidth\":0,\"ticks\":\"\"}}}],\"scatterpolargl\":[{\"type\":\"scatterpolargl\",\"marker\":{\"colorbar\":{\"outlinewidth\":0,\"ticks\":\"\"}}}],\"bar\":[{\"error_x\":{\"color\":\"#2a3f5f\"},\"error_y\":{\"color\":\"#2a3f5f\"},\"marker\":{\"line\":{\"color\":\"#E5ECF6\",\"width\":0.5},\"pattern\":{\"fillmode\":\"overlay\",\"size\":10,\"solidity\":0.2}},\"type\":\"bar\"}],\"scattergeo\":[{\"type\":\"scattergeo\",\"marker\":{\"colorbar\":{\"outlinewidth\":0,\"ticks\":\"\"}}}],\"scatterpolar\":[{\"type\":\"scatterpolar\",\"marker\":{\"colorbar\":{\"outlinewidth\":0,\"ticks\":\"\"}}}],\"histogram\":[{\"marker\":{\"pattern\":{\"fillmode\":\"overlay\",\"size\":10,\"solidity\":0.2}},\"type\":\"histogram\"}],\"scattergl\":[{\"type\":\"scattergl\",\"marker\":{\"colorbar\":{\"outlinewidth\":0,\"ticks\":\"\"}}}],\"scatter3d\":[{\"type\":\"scatter3d\",\"line\":{\"colorbar\":{\"outlinewidth\":0,\"ticks\":\"\"}},\"marker\":{\"colorbar\":{\"outlinewidth\":0,\"ticks\":\"\"}}}],\"scattermapbox\":[{\"type\":\"scattermapbox\",\"marker\":{\"colorbar\":{\"outlinewidth\":0,\"ticks\":\"\"}}}],\"scatterternary\":[{\"type\":\"scatterternary\",\"marker\":{\"colorbar\":{\"outlinewidth\":0,\"ticks\":\"\"}}}],\"scattercarpet\":[{\"type\":\"scattercarpet\",\"marker\":{\"colorbar\":{\"outlinewidth\":0,\"ticks\":\"\"}}}],\"carpet\":[{\"aaxis\":{\"endlinecolor\":\"#2a3f5f\",\"gridcolor\":\"white\",\"linecolor\":\"white\",\"minorgridcolor\":\"white\",\"startlinecolor\":\"#2a3f5f\"},\"baxis\":{\"endlinecolor\":\"#2a3f5f\",\"gridcolor\":\"white\",\"linecolor\":\"white\",\"minorgridcolor\":\"white\",\"startlinecolor\":\"#2a3f5f\"},\"type\":\"carpet\"}],\"table\":[{\"cells\":{\"fill\":{\"color\":\"#EBF0F8\"},\"line\":{\"color\":\"white\"}},\"header\":{\"fill\":{\"color\":\"#C8D4E3\"},\"line\":{\"color\":\"white\"}},\"type\":\"table\"}],\"barpolar\":[{\"marker\":{\"line\":{\"color\":\"#E5ECF6\",\"width\":0.5},\"pattern\":{\"fillmode\":\"overlay\",\"size\":10,\"solidity\":0.2}},\"type\":\"barpolar\"}],\"pie\":[{\"automargin\":true,\"type\":\"pie\"}]},\"layout\":{\"autotypenumbers\":\"strict\",\"colorway\":[\"#636efa\",\"#EF553B\",\"#00cc96\",\"#ab63fa\",\"#FFA15A\",\"#19d3f3\",\"#FF6692\",\"#B6E880\",\"#FF97FF\",\"#FECB52\"],\"font\":{\"color\":\"#2a3f5f\"},\"hovermode\":\"closest\",\"hoverlabel\":{\"align\":\"left\"},\"paper_bgcolor\":\"white\",\"plot_bgcolor\":\"#E5ECF6\",\"polar\":{\"bgcolor\":\"#E5ECF6\",\"angularaxis\":{\"gridcolor\":\"white\",\"linecolor\":\"white\",\"ticks\":\"\"},\"radialaxis\":{\"gridcolor\":\"white\",\"linecolor\":\"white\",\"ticks\":\"\"}},\"ternary\":{\"bgcolor\":\"#E5ECF6\",\"aaxis\":{\"gridcolor\":\"white\",\"linecolor\":\"white\",\"ticks\":\"\"},\"baxis\":{\"gridcolor\":\"white\",\"linecolor\":\"white\",\"ticks\":\"\"},\"caxis\":{\"gridcolor\":\"white\",\"linecolor\":\"white\",\"ticks\":\"\"}},\"coloraxis\":{\"colorbar\":{\"outlinewidth\":0,\"ticks\":\"\"}},\"colorscale\":{\"sequential\":[[0.0,\"#0d0887\"],[0.1111111111111111,\"#46039f\"],[0.2222222222222222,\"#7201a8\"],[0.3333333333333333,\"#9c179e\"],[0.4444444444444444,\"#bd3786\"],[0.5555555555555556,\"#d8576b\"],[0.6666666666666666,\"#ed7953\"],[0.7777777777777778,\"#fb9f3a\"],[0.8888888888888888,\"#fdca26\"],[1.0,\"#f0f921\"]],\"sequentialminus\":[[0.0,\"#0d0887\"],[0.1111111111111111,\"#46039f\"],[0.2222222222222222,\"#7201a8\"],[0.3333333333333333,\"#9c179e\"],[0.4444444444444444,\"#bd3786\"],[0.5555555555555556,\"#d8576b\"],[0.6666666666666666,\"#ed7953\"],[0.7777777777777778,\"#fb9f3a\"],[0.8888888888888888,\"#fdca26\"],[1.0,\"#f0f921\"]],\"diverging\":[[0,\"#8e0152\"],[0.1,\"#c51b7d\"],[0.2,\"#de77ae\"],[0.3,\"#f1b6da\"],[0.4,\"#fde0ef\"],[0.5,\"#f7f7f7\"],[0.6,\"#e6f5d0\"],[0.7,\"#b8e186\"],[0.8,\"#7fbc41\"],[0.9,\"#4d9221\"],[1,\"#276419\"]]},\"xaxis\":{\"gridcolor\":\"white\",\"linecolor\":\"white\",\"ticks\":\"\",\"title\":{\"standoff\":15},\"zerolinecolor\":\"white\",\"automargin\":true,\"zerolinewidth\":2},\"yaxis\":{\"gridcolor\":\"white\",\"linecolor\":\"white\",\"ticks\":\"\",\"title\":{\"standoff\":15},\"zerolinecolor\":\"white\",\"automargin\":true,\"zerolinewidth\":2},\"scene\":{\"xaxis\":{\"backgroundcolor\":\"#E5ECF6\",\"gridcolor\":\"white\",\"linecolor\":\"white\",\"showbackground\":true,\"ticks\":\"\",\"zerolinecolor\":\"white\",\"gridwidth\":2},\"yaxis\":{\"backgroundcolor\":\"#E5ECF6\",\"gridcolor\":\"white\",\"linecolor\":\"white\",\"showbackground\":true,\"ticks\":\"\",\"zerolinecolor\":\"white\",\"gridwidth\":2},\"zaxis\":{\"backgroundcolor\":\"#E5ECF6\",\"gridcolor\":\"white\",\"linecolor\":\"white\",\"showbackground\":true,\"ticks\":\"\",\"zerolinecolor\":\"white\",\"gridwidth\":2}},\"shapedefaults\":{\"line\":{\"color\":\"#2a3f5f\"}},\"annotationdefaults\":{\"arrowcolor\":\"#2a3f5f\",\"arrowhead\":0,\"arrowwidth\":1},\"geo\":{\"bgcolor\":\"white\",\"landcolor\":\"#E5ECF6\",\"subunitcolor\":\"white\",\"showland\":true,\"showlakes\":true,\"lakecolor\":\"white\"},\"title\":{\"x\":0.05},\"mapbox\":{\"style\":\"light\"}}},\"xaxis\":{\"anchor\":\"y\",\"domain\":[0.0,1.0],\"title\":{\"text\":\"Stock Invested in\"}},\"yaxis\":{\"anchor\":\"x\",\"domain\":[0.0,1.0],\"title\":{\"text\":\"Sector\"},\"categoryorder\":\"array\",\"categoryarray\":[\"Hospital\",\"Tea & coffee\",\"Life insurance\",\"Trading - minerals\",\"Packaged foods\",\"Holding company\",\"Aluminium\",\"2\\u002f3 wheelers\",\"Port & port services\",\"Coal\",\"Oil exploration & production\",\"Iron & steel products\",\"Cement & cement products\",\"Paints\",\"Gems, jewellery and watches\",\"Power - transmission\",\"Pharmaceuticals\",\"Non banking financial company (nbfc)\",\"Power generation\",\"Passenger cars & utility vehicles\",\"Public sector bank\",\"Telecom - cellular & fixed line services\",\"Civil construction\",\"Diversified fmcg\",\"Computers - software & consulting\",\"Refineries & marketing\",\"Private sector bank\"]},\"legend\":{\"title\":{\"text\":\"Sector\"},\"tracegroupgap\":0,\"itemsizing\":\"constant\"},\"title\":{\"text\":\"Stock Invested vs Sector\"}},                        {\"responsive\": true}                    ).then(function(){\n",
              "                            \n",
              "var gd = document.getElementById('f6bff273-dbf7-4596-8d98-8d51890d1b4c');\n",
              "var x = new MutationObserver(function (mutations, observer) {{\n",
              "        var display = window.getComputedStyle(gd).display;\n",
              "        if (!display || display === 'none') {{\n",
              "            console.log([gd, 'removed!']);\n",
              "            Plotly.purge(gd);\n",
              "            observer.disconnect();\n",
              "        }}\n",
              "}});\n",
              "\n",
              "// Listen for the removal of the full notebook cells\n",
              "var notebookContainer = gd.closest('#notebook-container');\n",
              "if (notebookContainer) {{\n",
              "    x.observe(notebookContainer, {childList: true});\n",
              "}}\n",
              "\n",
              "// Listen for the clearing of the current output cell\n",
              "var outputEl = gd.closest('.output');\n",
              "if (outputEl) {{\n",
              "    x.observe(outputEl, {childList: true});\n",
              "}}\n",
              "\n",
              "                        })                };                            </script>        </div>\n",
              "</body>\n",
              "</html>"
            ]
          },
          "metadata": {}
        }
      ]
    }
  ]
}